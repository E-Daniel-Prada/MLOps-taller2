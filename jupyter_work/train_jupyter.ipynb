{
 "cells": [
  {
   "cell_type": "code",
   "execution_count": 1,
   "id": "46f76a4c-034e-4c4b-bb52-266c64102162",
   "metadata": {},
   "outputs": [
    {
     "name": "stdout",
     "output_type": "stream",
     "text": [
      "Modelo guardado: LogisticRegression_optimized.pkl\n",
      "Modelo guardado: DecisionTree_optimized.pkl\n",
      "Modelo guardado: RandomForest_optimized.pkl\n"
     ]
    }
   ],
   "source": [
    "import pandas as pd\n",
    "import numpy as np\n",
    "import joblib\n",
    "from sklearn.model_selection import train_test_split\n",
    "from sklearn.ensemble import RandomForestClassifier\n",
    "from sklearn.tree import DecisionTreeClassifier\n",
    "from sklearn.linear_model import LogisticRegression\n",
    "from sklearn.preprocessing import LabelEncoder\n",
    "\n",
    "# Cargar el dataset Penguins\n",
    "df = pd.read_csv(\"/home/jovyan/work/penguins_size.csv\")\n",
    "\n",
    "# Limpiar datos (Eliminar filas con valores nulos)\n",
    "df = df.dropna()\n",
    "\n",
    "# Codificar variables categóricas\n",
    "label_encoder = LabelEncoder()\n",
    "df[\"species\"] = label_encoder.fit_transform(df[\"species\"])  # Variable objetivo\n",
    "df[\"island\"] = label_encoder.fit_transform(df[\"island\"])\n",
    "df[\"sex\"] = label_encoder.fit_transform(df[\"sex\"])\n",
    "\n",
    "# Seleccionar características y variable objetivo\n",
    "X = df.drop(columns=[\"species\"])\n",
    "y = df[\"species\"]\n",
    "\n",
    "# Dividir datos en entrenamiento y prueba\n",
    "X_train, X_test, y_train, y_test = train_test_split(X, y, test_size=0.2, random_state=42)\n",
    "\n",
    "# Entrenar modelos\n",
    "models = {\n",
    "    \"LogisticRegression_optimized.pkl\": LogisticRegression(max_iter=1000),\n",
    "    \"DecisionTree_optimized.pkl\": DecisionTreeClassifier(),\n",
    "    \"RandomForest_optimized.pkl\": RandomForestClassifier(n_estimators=100)\n",
    "}\n",
    "\n",
    "# Guardar cada modelo en la carpeta compartida\n",
    "for model_name, model in models.items():\n",
    "    model.fit(X_train, y_train)\n",
    "    joblib.dump(model, f\"/home/jovyan/work/models/{model_name}\")\n",
    "    print(f\"Modelo guardado: {model_name}\")\n"
   ]
  },
  {
   "cell_type": "code",
   "execution_count": null,
   "id": "6fd71294-c036-4fa3-9861-1a7b3a89c5e1",
   "metadata": {},
   "outputs": [],
   "source": []
  }
 ],
 "metadata": {
  "kernelspec": {
   "display_name": "Python 3 (ipykernel)",
   "language": "python",
   "name": "python3"
  },
  "language_info": {
   "codemirror_mode": {
    "name": "ipython",
    "version": 3
   },
   "file_extension": ".py",
   "mimetype": "text/x-python",
   "name": "python",
   "nbconvert_exporter": "python",
   "pygments_lexer": "ipython3",
   "version": "3.11.6"
  }
 },
 "nbformat": 4,
 "nbformat_minor": 5
}
